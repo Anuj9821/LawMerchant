{
  "nbformat": 4,
  "nbformat_minor": 0,
  "metadata": {
    "colab": {
      "provenance": []
    },
    "kernelspec": {
      "name": "python3",
      "display_name": "Python 3"
    },
    "language_info": {
      "name": "python"
    }
  },
  "cells": [
    {
      "cell_type": "code",
      "execution_count": 1,
      "metadata": {
        "colab": {
          "base_uri": "https://localhost:8080/"
        },
        "id": "DLCBVa1WQgqJ",
        "outputId": "cda183ec-62df-44e6-82e3-83d029344c22"
      },
      "outputs": [
        {
          "output_type": "stream",
          "name": "stderr",
          "text": [
            "[nltk_data] Downloading package punkt to /root/nltk_data...\n",
            "[nltk_data]   Unzipping tokenizers/punkt.zip.\n",
            "[nltk_data] Downloading package stopwords to /root/nltk_data...\n",
            "[nltk_data]   Unzipping corpora/stopwords.zip.\n",
            "[nltk_data] Downloading package wordnet to /root/nltk_data...\n"
          ]
        },
        {
          "output_type": "stream",
          "name": "stdout",
          "text": [
            "   id                                               text\n",
            "2   3  Food resembling but not pure honey not be mark...\n",
            "1   2  Restriction on sale of Carbia Callosa and Hone...\n"
          ]
        }
      ],
      "source": [
        "import pandas as pd\n",
        "from sklearn.feature_extraction.text import TfidfVectorizer\n",
        "from sklearn.metrics.pairwise import cosine_similarity\n",
        "import nltk\n",
        "from nltk.corpus import stopwords\n",
        "from nltk.stem import WordNetLemmatizer\n",
        "import string\n",
        "\n",
        "# Ensure you have the required nltk resources\n",
        "nltk.download('punkt')\n",
        "nltk.download('stopwords')\n",
        "nltk.download('wordnet')\n",
        "\n",
        "# Initialize necessary components\n",
        "stop_words = set(stopwords.words('english'))\n",
        "lemmatizer = WordNetLemmatizer()\n",
        "\n",
        "def preprocess_text(text):\n",
        "    # Tokenize and lowercase\n",
        "    tokens = nltk.word_tokenize(text.lower())\n",
        "    # Remove punctuation and stopwords, and lemmatize\n",
        "    tokens = [lemmatizer.lemmatize(word) for word in tokens if word.isalpha() and word not in stop_words]\n",
        "    return ' '.join(tokens)\n",
        "\n",
        "# Sample data\n",
        "laws_data = [\n",
        "    \"Prohibition on sale of food articles coated with mineral oil: No person shall sell or offer or expose for sale or have in his premises for the purpose of sale under any description, food articles which have been coated with mineral oil, except where the addition of mineral oil is permitted in accordance with the standards laid down in these Regulations and Food Safety and Standards (Food Products Standards and Food Additives) regulations, 2011.\",\n",
        "    \"Restriction on sale of Carbia Callosa and Honey dew.:Carbia Callosa and Honey dew shall be sold only in sealed containers bearing Agmark seal.\",\n",
        "    \"Food resembling but not pure honey not be marketed as honey: No person shall use the word ‘honey’ or any word, mark, illustration or device that suggests honey on the label or any package of, or in any advertisement for, any food that resembles honey but is not pure honey.\",\n",
        "    \"Product not to contain any substance which may be injurious to health: Tobacco and nicotine shall not be used as ingredients in any food products.\",\n",
        "    \"Prohibition of use of carbide gas in ripening of fruits: No person shall sell or offer or expose for sale or have in his premises for the purpose of sale under any description, fruits which have been artificially ripened by use of acetylene gas, commonly known as carbide gas.\"\n",
        "]\n",
        "\n",
        "laws_df = pd.DataFrame({\n",
        "    'id': [1, 2, 3, 4, 5],\n",
        "    'text': laws_data\n",
        "})\n",
        "\n",
        "# Preprocess the text\n",
        "laws_df['processed_text'] = laws_df['text'].apply(preprocess_text)\n",
        "\n",
        "# Vectorize the text using TF-IDF\n",
        "vectorizer = TfidfVectorizer()\n",
        "tfidf_matrix = vectorizer.fit_transform(laws_df['processed_text'])\n",
        "\n",
        "# User query\n",
        "user_query = \"honey\"\n",
        "\n",
        "# Preprocess the query\n",
        "processed_query = preprocess_text(user_query)\n",
        "\n",
        "# Convert the query to TF-IDF vector\n",
        "query_vector = vectorizer.transform([processed_query])\n",
        "\n",
        "# Calculate cosine similarity between the query and the laws\n",
        "cosine_similarities = cosine_similarity(query_vector, tfidf_matrix).flatten()\n",
        "\n",
        "# Rank laws based on similarity\n",
        "ranked_indices = cosine_similarities.argsort()[::-1]\n",
        "\n",
        "# Retrieve the top relevant laws\n",
        "top_laws = laws_df.iloc[ranked_indices]\n",
        "\n",
        "# Filter laws with non-zero similarity\n",
        "relevant_laws = top_laws[cosine_similarities[ranked_indices] > 0]\n",
        "\n",
        "# Display the results\n",
        "print(relevant_laws[['id', 'text']])\n"
      ]
    },
    {
      "cell_type": "code",
      "source": [
        "user_query = \"fruits\"\n",
        "\n",
        "# Preprocess the query\n",
        "processed_query = preprocess_text(user_query)\n",
        "\n",
        "# Convert the query to TF-IDF vector\n",
        "query_vector = vectorizer.transform([processed_query])\n",
        "\n",
        "# Calculate cosine similarity between the query and the laws\n",
        "cosine_similarities = cosine_similarity(query_vector, tfidf_matrix).flatten()\n",
        "\n",
        "# Rank laws based on similarity\n",
        "ranked_indices = cosine_similarities.argsort()[::-1]\n",
        "\n",
        "# Retrieve the top relevant laws\n",
        "top_laws = laws_df.iloc[ranked_indices]\n",
        "\n",
        "# Filter laws with non-zero similarity\n",
        "relevant_laws = top_laws[cosine_similarities[ranked_indices] > 0]\n",
        "\n",
        "# Display the results\n",
        "print(relevant_laws[['id', 'text']])"
      ],
      "metadata": {
        "colab": {
          "base_uri": "https://localhost:8080/"
        },
        "id": "nGVRHdBUQw4A",
        "outputId": "a7ea9b27-a820-4da9-eeea-79fd7a5bdd80"
      },
      "execution_count": 2,
      "outputs": [
        {
          "output_type": "stream",
          "name": "stdout",
          "text": [
            "   id                                               text\n",
            "4   5  Prohibition of use of carbide gas in ripening ...\n"
          ]
        }
      ]
    },
    {
      "cell_type": "code",
      "source": [],
      "metadata": {
        "id": "xSJWM_P0REha"
      },
      "execution_count": null,
      "outputs": []
    }
  ]
}