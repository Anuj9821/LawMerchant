{
 "cells": [
  {
   "cell_type": "code",
   "execution_count": 67,
   "id": "4fc55583-a7cd-4386-869f-296fe0c502d1",
   "metadata": {},
   "outputs": [],
   "source": [
    "from datasets import load_dataset"
   ]
  },
  {
   "cell_type": "code",
   "execution_count": 68,
   "id": "2a689c8e-750d-4ae0-b172-4ff476996efd",
   "metadata": {},
   "outputs": [],
   "source": [
    "from transformers import AutoModelForSeq2SeqLM\n",
    "from transformers import AutoTokenizer\n",
    "from transformers import GenerationConfig"
   ]
  },
  {
   "cell_type": "code",
   "execution_count": 69,
   "id": "30c13103-899e-4257-bf33-89b2ade41772",
   "metadata": {},
   "outputs": [],
   "source": [
    "import pandas as pd\n",
    "from datasets import Dataset\n",
    "csv_file_path = \"rules.csv\"\n",
    "df = pd.read_csv(csv_file_path)\n",
    "\n",
    "# Convert the pandas DataFrame to a Hugging Face Dataset\n",
    "dataset = Dataset.from_pandas(df)\n",
    "# Load the dataset\n",
    "\n"
   ]
  },
  {
   "cell_type": "code",
   "execution_count": 8,
   "id": "64991a1e-06bc-4442-a6a2-dd594f1785b9",
   "metadata": {},
   "outputs": [
    {
     "name": "stdout",
     "output_type": "stream",
     "text": [
      "Note: you may need to restart the kernel to use updated packages.\n"
     ]
    }
   ],
   "source": [
    "%pip install \\\n",
    "    transformers==4.27.2 \\\n",
    "    datasets==2.11.0 --quiet"
   ]
  },
  {
   "cell_type": "code",
   "execution_count": 70,
   "id": "c63817f5-bea8-4f5a-a96b-501945367ebd",
   "metadata": {},
   "outputs": [
    {
     "name": "stdout",
     "output_type": "stream",
     "text": [
      "___________________________________________________________________________________________________\n",
      "Example 1\n",
      "___________________________________________________________________________________________________\n",
      "INPUT DIALOGUE:\n",
      "8\n",
      "___________________________________________________________________________________________________\n",
      "BASELINE HUMAN SUMMARY:\n",
      "(10) milk or a milk product specified in Food Safety and Standards (Food Products Standards and Food\n",
      "Additives) regulations, 2011 containing a substance not found in milk, except as provided in the regulations.\n",
      "Provided that the Central Government or the Food Authority may, by notification in the Official Gazette exempt\n",
      "any preparations made of soluble extracts of coffee from the operation of this regulation.\n",
      "Provided further that proprietary food articles relating to Regulation 2.1.1(8) shall be exempted from the\n",
      "operation of this Regulation\n",
      "Provided further that in respect of regulation 2.1.1(5), a maximum tolerance of 15.0 red units in 1 cm. Cell of\n",
      "Lovibond scale is permitted when oil is tested for Boudouin test without dilution that is to say by shaking vigorously\n",
      "for 2 minutes, 5 ml. Of the sample with 5 ml. of the hydrochloric acid (specific gravity 1.19) and 0.3 ml. of 2 percent\n",
      "alcoholic solution of furfural and allowing to standing for 5 miutes.\n",
      "Provided further that in respect of Regulation 2.1.1(5) a maximum tolerance limit of 10 red units in one cm. cell\n",
      "on Lovibond scale is permitted when the oil is tested for Halphen’s test without dilution, that is to say, by shaking\n",
      "5 ml. of the sample with 5 ml. of sulphur solution (one per cent (w/v) solution of sulphur in carbon-di-sulphide mixed\n",
      "with equal volume of amyl alcohol), in a closed system (test tube 250 x 25 Cm.) heating in hot water (700\n",
      "C- 80°C) for\n",
      "a few minutes with occasional shaking until carbon-di-sulphide is boiled off and the sample stops foaming and then\n",
      "placing the tube on saturated brine bath, capable of being regulated at 1100\n",
      "C-1150\n",
      "C for 2.5 hours\n",
      "Provided also that prohibition in Regulation 2.1.1 (5) shall remain inoperative in respect of admixture of any\n",
      "two edible vegetable oils as one edible vegetable oil, where –\n",
      "(a) the proportion by weight of any vegetable oil used in the admixture is not less than 20 per cent. by\n",
      "weight; and\n",
      "(b) the admixture of edible vegetable oils, is processed or packed and sold, by the Department of Civil\n",
      "Supplies, Government of India (Directorate of Vanaspati, Vegetable Oils and Fats) or by the agencies in\n",
      "public, private or Joint Sector authorized by the Department, or by the National Dairy Development Board or\n",
      "by the State Cooperative Oilseeds Growers Federation or Regional and District Cooperative Oilseeds Growers\n",
      "Union set up under National Dairy Development Board’s Oilseeds and Vegetable Oil Project or by the Public\n",
      "Sector undertakings of Central and State Governments, in sealed packages weighing not more than 15 litres\n",
      "under Agmark Certification Mark compulsorily and bearing the label declaration as laid down in the Regulation\n",
      "2.4.2 (11) of Food Safety and Standards (Packaging and Labelling) Regulations, 2011 and\n",
      "(c) the quality of each edible oil used in the admixture conforms to the relevant standard prescribed by\n",
      "these regulations.\n",
      "___________________________________________________________________________________________________\n",
      "\n"
     ]
    }
   ],
   "source": [
    "example_indices = [7]\n",
    "\n",
    "dash_line = '_'.join('' for x in range(100))\n",
    "\n",
    "for i, index in enumerate(example_indices):\n",
    "    print(dash_line)\n",
    "    print('Example', i+1)\n",
    "    print(dash_line)\n",
    "    print('INPUT DIALOGUE:')\n",
    "    print(dataset [index] ['rule_id'])\n",
    "    print(dash_line)\n",
    "    print('BASELINE HUMAN SUMMARY:')\n",
    "    print(dataset [index] ['rule_content'])\n",
    "    print(dash_line)\n",
    "    print()"
   ]
  },
  {
   "cell_type": "code",
   "execution_count": 71,
   "id": "91cda1d0-8186-41ab-97a9-86008c359505",
   "metadata": {},
   "outputs": [
    {
     "name": "stderr",
     "output_type": "stream",
     "text": [
      "C:\\Users\\sakshi\\AppData\\Local\\Programs\\Python\\Python310\\lib\\site-packages\\huggingface_hub\\file_download.py:1132: FutureWarning: `resume_download` is deprecated and will be removed in version 1.0.0. Downloads always resume when possible. If you want to force a new download, use `force_download=True`.\n",
      "  warnings.warn(\n"
     ]
    }
   ],
   "source": [
    "model_name= 'google/flan-t5-base'\n",
    "model = AutoModelForSeq2SeqLM.from_pretrained(model_name)"
   ]
  },
  {
   "cell_type": "code",
   "execution_count": 72,
   "id": "957074d5-6ed0-40e4-9690-e27e8117c0f2",
   "metadata": {},
   "outputs": [],
   "source": [
    "tokenizer = AutoTokenizer.from_pretrained(model_name, use_fast=True)"
   ]
  },
  {
   "cell_type": "code",
   "execution_count": 73,
   "id": "b83e5bae-8639-4921-9de9-6191870947d6",
   "metadata": {},
   "outputs": [
    {
     "name": "stdout",
     "output_type": "stream",
     "text": [
      "encoded:\n",
      "tensor([2219,   11, 4750,    1])\n",
      "\n",
      "decode sentence:\n",
      "rules and regulations\n"
     ]
    }
   ],
   "source": [
    "sentence= \"rules and regulations\"\n",
    "sentence_encoded= tokenizer(sentence, return_tensors='pt')\n",
    "sentence_decode=tokenizer.decode(sentence_encoded[\"input_ids\"][0],\n",
    "                                 skip_special_tokens=True\n",
    "                                )\n",
    "print('encoded:')\n",
    "print(sentence_encoded['input_ids'][0])\n",
    "print('\\ndecode sentence:')\n",
    "print(sentence_decode)\n",
    "    "
   ]
  },
  {
   "cell_type": "code",
   "execution_count": 74,
   "id": "abd99951-4678-4ef7-a716-1d40ae7247eb",
   "metadata": {},
   "outputs": [
    {
     "name": "stderr",
     "output_type": "stream",
     "text": [
      "Token indices sequence length is longer than the specified maximum sequence length for this model (699 > 512). Running this sequence through the model will result in indexing errors\n"
     ]
    },
    {
     "name": "stdout",
     "output_type": "stream",
     "text": [
      "___________________________________________________________________________________________________\n",
      "Rule id\n",
      "8\n",
      "___________________________________________________________________________________________________\n",
      "Rules:\n",
      "(10) milk or a milk product specified in Food Safety and Standards (Food Products Standards and Food\n",
      "Additives) regulations, 2011 containing a substance not found in milk, except as provided in the regulations.\n",
      "Provided that the Central Government or the Food Authority may, by notification in the Official Gazette exempt\n",
      "any preparations made of soluble extracts of coffee from the operation of this regulation.\n",
      "Provided further that proprietary food articles relating to Regulation 2.1.1(8) shall be exempted from the\n",
      "operation of this Regulation\n",
      "Provided further that in respect of regulation 2.1.1(5), a maximum tolerance of 15.0 red units in 1 cm. Cell of\n",
      "Lovibond scale is permitted when oil is tested for Boudouin test without dilution that is to say by shaking vigorously\n",
      "for 2 minutes, 5 ml. Of the sample with 5 ml. of the hydrochloric acid (specific gravity 1.19) and 0.3 ml. of 2 percent\n",
      "alcoholic solution of furfural and allowing to standing for 5 miutes.\n",
      "Provided further that in respect of Regulation 2.1.1(5) a maximum tolerance limit of 10 red units in one cm. cell\n",
      "on Lovibond scale is permitted when the oil is tested for Halphen’s test without dilution, that is to say, by shaking\n",
      "5 ml. of the sample with 5 ml. of sulphur solution (one per cent (w/v) solution of sulphur in carbon-di-sulphide mixed\n",
      "with equal volume of amyl alcohol), in a closed system (test tube 250 x 25 Cm.) heating in hot water (700\n",
      "C- 80°C) for\n",
      "a few minutes with occasional shaking until carbon-di-sulphide is boiled off and the sample stops foaming and then\n",
      "placing the tube on saturated brine bath, capable of being regulated at 1100\n",
      "C-1150\n",
      "C for 2.5 hours\n",
      "Provided also that prohibition in Regulation 2.1.1 (5) shall remain inoperative in respect of admixture of any\n",
      "two edible vegetable oils as one edible vegetable oil, where –\n",
      "(a) the proportion by weight of any vegetable oil used in the admixture is not less than 20 per cent. by\n",
      "weight; and\n",
      "(b) the admixture of edible vegetable oils, is processed or packed and sold, by the Department of Civil\n",
      "Supplies, Government of India (Directorate of Vanaspati, Vegetable Oils and Fats) or by the agencies in\n",
      "public, private or Joint Sector authorized by the Department, or by the National Dairy Development Board or\n",
      "by the State Cooperative Oilseeds Growers Federation or Regional and District Cooperative Oilseeds Growers\n",
      "Union set up under National Dairy Development Board’s Oilseeds and Vegetable Oil Project or by the Public\n",
      "Sector undertakings of Central and State Governments, in sealed packages weighing not more than 15 litres\n",
      "under Agmark Certification Mark compulsorily and bearing the label declaration as laid down in the Regulation\n",
      "2.4.2 (11) of Food Safety and Standards (Packaging and Labelling) Regulations, 2011 and\n",
      "(c) the quality of each edible oil used in the admixture conforms to the relevant standard prescribed by\n",
      "these regulations.\n",
      "___________________________________________________________________________________________________\n",
      "summery:\n",
      "(10) milk or a milk product specified in Food Safety and Standards (Food Products Standards and Food Additives) regulations, 2011 containing a substance not found in milk, except as provided in the regulations. Provided further that the Central\n",
      "___________________________________________________________________________________________________\n"
     ]
    }
   ],
   "source": [
    "for i, index in enumerate(example_indices):\n",
    "    dialogue = dataset[index]['rule_content']\n",
    "    inputs = tokenizer(dialogue, return_tensors='pt')\n",
    "    output= tokenizer.decode(\n",
    "         model.generate(\n",
    "                inputs[\"input_ids\"],\n",
    "                max_new_tokens=50,\n",
    "         )[0],\n",
    "        skip_special_tokens=True\n",
    "    )\n",
    "    print(dash_line)\n",
    "    print('Rule id')\n",
    "    print(dataset [index] ['rule_id'])\n",
    "    print(dash_line)\n",
    "    print(f'Rules:\\n{dialogue}')\n",
    "    print(dash_line)\n",
    "    print(f'summery:\\n{output}')\n",
    "    print(dash_line)"
   ]
  },
  {
   "cell_type": "code",
   "execution_count": null,
   "id": "0f3432d3-e864-4302-b0db-3158dbee6914",
   "metadata": {},
   "outputs": [],
   "source": []
  }
 ],
 "metadata": {
  "kernelspec": {
   "display_name": "Python 3 (ipykernel)",
   "language": "python",
   "name": "python3"
  },
  "language_info": {
   "codemirror_mode": {
    "name": "ipython",
    "version": 3
   },
   "file_extension": ".py",
   "mimetype": "text/x-python",
   "name": "python",
   "nbconvert_exporter": "python",
   "pygments_lexer": "ipython3",
   "version": "3.10.2"
  }
 },
 "nbformat": 4,
 "nbformat_minor": 5
}
